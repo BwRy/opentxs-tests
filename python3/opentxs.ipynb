{
 "metadata": {
  "name": "opentxs"
 },
 "nbformat": 3,
 "nbformat_minor": 0,
 "worksheets": [
  {
   "cells": [
    {
     "cell_type": "code",
     "collapsed": false,
     "input": [
      "import opentxs\n",
      "import pyopentxs\n",
      "pyopentxs.init()"
     ],
     "language": "python",
     "metadata": {},
     "outputs": [
      {
       "output_type": "stream",
       "stream": "stdout",
       "text": [
        "removing lockfile /home/jweiss/.ot/client_data/ot.pid\n"
       ]
      }
     ],
     "prompt_number": 1
    },
    {
     "cell_type": "code",
     "collapsed": false,
     "input": [
      "# create nym\n",
      "nym = pyopentxs.create_pseudonym()\n",
      "nym\n"
     ],
     "language": "python",
     "metadata": {},
     "outputs": [
      {
       "output_type": "pyout",
       "prompt_number": 2,
       "text": [
        "'c1dLQtp49iFMwG4522Bxv4mgR2cQ3IMjbl0Nqz3oGUz'"
       ]
      }
     ],
     "prompt_number": 2
    },
    {
     "cell_type": "code",
     "collapsed": false,
     "input": [
      "#sign server contract\n",
      "pyopentxs.add_server(serverNym, open(\"../test-data/sample-contracts/localhost.xml\").read())\n"
     ],
     "language": "python",
     "metadata": {},
     "outputs": [
      {
       "output_type": "pyout",
       "prompt_number": 3,
       "text": [
        "'pC2rgcs9nf6BI9hDrB0hTB7l3ry72xqxsrmnHMlLuzs'"
       ]
      }
     ],
     "prompt_number": 3
    },
    {
     "cell_type": "code",
     "collapsed": false,
     "input": [
      "# get first server\n",
      "first_server = pyopentxs.get_servers()[0]\n",
      "first_server"
     ],
     "language": "python",
     "metadata": {},
     "outputs": [
      {
       "output_type": "pyout",
       "prompt_number": 5,
       "text": [
        "['SeC4Ebc3d6y95DAZJhZRMMMlhpPNx2owIk3LSpGBCJt', 'Transactions.com']"
       ]
      }
     ],
     "prompt_number": 5
    },
    {
     "cell_type": "code",
     "collapsed": false,
     "input": [
      "decoded_signed_server_contract = pyopentxs.setup_server(open(\"../test-data/sample-contracts/localhost.xml\"))"
     ],
     "language": "python",
     "metadata": {},
     "outputs": [
      {
       "output_type": "stream",
       "stream": "stdout",
       "text": [
        "wWw9yEkkeO2RT0IgCL7BhSL8EwQkcIRcT2SqfUrkJwo\n",
        "vWDxfPhq8sHdc24pknzdS09FfWsfA1tQD7lwdS1RFYC\n",
        "CmAAAQCAAAD//wAAAAi6FF78a3qamQAAABC6anVnXSj3TbW6ZSB8FVcpAAAAIM1Z\n",
        "l0UnX7PpITUOJpwVhUYECCD5bcr52DCooiqi1rNeAAAAEGDQd73pZkru3PbdlH4p\n",
        "4NI=\n",
        "~\n",
        "-----BEGIN SIGNED CONTRACT-----\n",
        "Hash: SAMY\n",
        "\n",
        "<?xml version=\"1.0\"?>\n",
        "<notaryProviderContract version=\"2.0\">\n",
        "\n",
        "<entity shortname=\"Transactions.com\"\n",
        " longname=\"Transactions.com, LLC\"\n",
        " email=\"serverfarm@cloudcomputing.com\"\n",
        " serverURL=\"https://transactions.com/vers/1/\"/>\n",
        "\n",
        "<notaryServer hostname=\"localhost\"\n",
        " port=\"7085\"\n",
        " URL=\"https://transactions.com/vers/1/\"/>\n",
        "\n",
        "<!-- CONDITIONS -->\n",
        "\n",
        "<condition name=\"audit\">\n",
        "Transactions.com operates open-source OpenTransactions software, and\n",
        "code audits are randomly performed by CodeNotary.com\n",
        "Our insurance company is:  GeicoCurrency.com\n",
        "</condition>\n",
        "\n",
        "<condition name=\"backing\">\n",
        "  Transactions.com does not issue any currencies or digital assets,\n",
        "  and does not back any of the same. You are solely responsible for\n",
        "  whom you choose to trade with. \n",
        "</condition>\n",
        "\n",
        "<condition name=\"liability\">\n",
        "  Issuers are solely liable to perform according to\n",
        "  the conditions specified in their asset contracts.\n",
        "  Transactions.com is liable to keep transactions secure and clean.\n",
        "</condition>\n",
        "\n",
        "<condition name=\"mint\">\n",
        "  Float - the total quantity of any digital asset outstanding -\n",
        "  is created by the issuer from his own mint, and signed by his private key.\n",
        "  \n",
        "  Disbursements from the Mint account are to be made on receipt of\n",
        "  duly signed and public authorization from the Issuer.  All\n",
        "  disbursements from the Mint account are to be made to the single\n",
        "  Currency Comptroller account identified by the authorization.\n",
        "\n",
        "  From time to time, the Currency Comptroller may direct the\n",
        "  Currency Manager to return digital assets to the Mint\n",
        "  for the express purpose of reducing the float. Digital assets\n",
        "  so delivered are to be deposited into the Mint account,\n",
        "  thus reducing the float by that amount.\n",
        "</condition>\n",
        "\n",
        "<condition name=\"privacy\">\n",
        "  The purchase, redemption and trading at Transactions.com normally\n",
        "  are done on the basis of strong privacy. We will never release any of\n",
        "  your information unless compelled by law.\n",
        "</condition>\n",
        "\n",
        "<condition name=\"rate\">\n",
        "  Transaction credits may be purchased on our website, the fees for which\n",
        "  are posted there also. We make money solely from transaction processing,\n",
        "  that is, providing an electronic notary service for others, for a usage fee.\n",
        "</condition>\n",
        "\n",
        "<!-- NYMS -->\n",
        "\n",
        "<signer hasCredentials=\"true\"\n",
        " nymID=\"vWDxfPhq8sHdc24pknzdS09FfWsfA1tQD7lwdS1RFYC\"\n",
        " altLocation=\"\">\n",
        "\n",
        "<nymIDSource>\n",
        "eNplkbFy4jAURYvt/BX8QGYkjIsUKZAsYQvJGz3rSUGdMTNALAiZ9WbAH7XfuAm7\n",
        "XW557qnuzf78eJg9fIWJVd3MnpHpms/WYnOHGb8suW7JqFvKAXfKHZn1qEyLZt8S\n",
        "H/91ZO0wVXGgzIhdibmskKSjIQAZoGLoPbMOKjdIYYm6II48UikMjiqIUWlC2+jS\n",
        "4qf0tXOQowPfuwbd8u2a+dXh3ab4azPQsSmbsE170gdqwknd4skW2xeWw9RYEPsp\n",
        "DjE34loEXNC4Gl+cV4eseU1nTaQGhPcwUB6ErPlr/9GH+uNTPvgA80/nOVa+i0SG\n",
        "Dbl05txoqOTZTssi6yaIJrHfQGy+OclrN09jF2DVnvbTNj+gH9KiL30eUazj/LHY\n",
        "lfG2zs3UHh8dhHjLAlJoERii5Px4H2wELEQtmbfDVdkb0+CHO9f27Sn7f4loym+H\n",
        "/AXOaITt\n",
        "</nymIDSource>\n",
        "\n",
        "<credentialList>\n",
        "eNqtk8mOm0AURXdZ1Fe0vEUKmKEBye0IGwx4YDBghh24KJvZUAy2Py1fF3d6ESXr\n",
        "bK/0jo507wM/vy1+3KvybUw7nDX1x4z+Ts1+LMHCdAecdn/y+SsHb/Wj0uWP2ejL\n",
        "d2RdWwFr8Eyzt6J+QocSN8jHSJr3tsyXE3Tmx024ni0BWPw+c5qhO6dLkBq3skg2\n",
        "DzaXvGM49uQqEGw1LHIde7tIwqE9btUn0zmeCg+uIe2lLBL9RNL4AA1SxYPA5zi+\n",
        "rYcn4oV0exGR7m9PkDnUN+1WYdIPa1NTEwEPPr9tN+NOCtBOi+p5qzz2US84QCPF\n",
        "eWRS0ylQL0/9CrOkwsXOyXVbihp131jJwdzlUA/D6l3XWcHLikOetbrnl2uayB3A\n",
        "tojqA9NuJgsNUwKFgY4JGFyZOGHjp2Vjp0qwMuepC2ynooYsLnz6nvqTeAwVC9+A\n",
        "nCsMWzZKYKxZtSTOJzbFqTev3dhWr9Z58lbvSmeVHSmqGjEYrjVeJIEia/MUExnl\n",
        "qEBOSorr701rupGLcfb+iPVtpyFbfRDmuewMSsw3tHyqx8Q1cuKiibtsz1CpFz9z\n",
        "cq+FoEQq/cSMp10FeNXyvVRuG+WYZZx1ZzV6UvaK3VcJkk+wSChirZkionmn5tFL\n",
        "+1ERGiClwIx1twcL8q96waKKcZ926y6Fad1ncQnePjfDTbzHlaxoxKYvtD5togwH\n",
        "baBzfCNjTkZGmIvRhO286V5DG+Mygx+zvhvSGfkJLdLHv8Ref/YMc+Pk/nY5rNCd\n",
        "i+ZO70GWckyeNlc4H50hVeSLBusX8cvqP5iQX6+xBL8ASMgNGw==\n",
        "</credentialList>\n",
        "\n",
        "<credentials>\n",
        "CqNGCrgUCis1dzdVNWw0OU5hT1c4cVcyT2Zpc1hxWEk1N29EczVEZk5Zajlad3NR\n",
        "am9yEogULS0tLS1CRUdJTiBTSUdORUQgTUFTVEVSIEtFWSBDUkVERU5USUFMLS0t\n",
        "LS0KSGFzaDogU0FNWQoKPG1hc3RlckNyZWRlbnRpYWwgbnltSUQ9InZXRHhmUGhx\n",
        "OHNIZGMyNHBrbnpkUzA5RmZXc2ZBMXRRRDdsd2RTMVJGWUMiID4KCjxueW1JRFNv\n",
        "dXJjZT4KZU5wbGtiRnk0akFVUll2dC9CWDhRR1lraklzVUtaQXNZUXZKR3ozclNV\n",
        "R2RNVE5BTEFpWjlXYkFIN1hmdUFtNwpYVzU1N3FudXpmNzhlSmc5ZklXSlZkM01u\n",
        "cEhwbXMvV1luT0hHYjhzdVc3SnFGdktBWGZLSFpuMXFFeUxadDhTCkgvOTFaTzB3\n",
        "VlhHZ3pJaGRpYm1za0tTaklRQVpvR0xvUGJNT0tqZElZWW02SUk0OFVpa01qaXFJ\n",
        "VVdsQzIralMKNHFmMHRYT1Fvd1BmdXdiZDh1MmErZFhoM2FiNGF6UFFzU21ic0Ux\n",
        "NzBnZHF3a25kNHNrVzJ4ZVd3OVJZRVBzcApEakUzNGxvRVhOQzRHbCtjVjRlc2VV\n",
        "MW5UYVFHaFBjd1VCNkVyUGxyLzlHSCt1TlRQdmdBODAvbk9WYStpMFNHCkRibDA1\n",
        "dHhvcU9UWlRzc2k2eWFJSnJIZlFHeStPY2xyTjA5akYyRFZudmJUTmorZ0g5S2lM\n",
        "MzBlVWF6ai9MSFkKbGZHMnpzM1VIaDhkaEhqTEFsSm9FUmlpNVB4NEgyd0VMRVF0\n",
        "bWJmRFZka2IwK0NITzlmMjdTbjdmNGxveW0rSAovQVhPYUlUdAo8L255bUlEU291\n",
        "cmNlPgoKPHB1YmxpY0NvbnRlbnRzIGNvdW50PSIzIj4KCjxwdWJsaWNJbmZvIGtl\n",
        "eT0iQSI+CmVOcGxrYkZ1Z3pBWWhJZHVQRVZmb0pJaFNsV0dEckd4RXh6c0ZOdS9D\n",
        "ZDRTa0JJQ0pHNkZFdWdqOVNuYnBtTnYKL0U0bm5lNkNyNGVuWDJHNlRPWGpHK0Fz\n",
        "Slk5cld0NWhRUHlDWkJvTm1RNkpncHFiQnVjV3VOQWdEaHBaOStlaAp0WUZ1NWRv\n",
        "UUMxb25NR01yUUYwamtGS0JBbzdCV3B3YnRUSXRvem5pSG1BZ0xtU0pBTzlkd1VP\n",
        "WXBaRk9YRjYyCmNXSlJPVW5taC8wV2Q1dmNrMEJIc2pPZnpzaVo5MkxiaHZZc2I5\n",
        "RHp0MnlLUjhVdWtUalRxWnBlcmtYLzArL0UKYnZya2pudFVYYVh0dERGeUhteVdk\n",
        "bFdlRmlFVTQxaWVZTDR2cWl2cDVVZGgxWHQ5OXR5R2kydk5hQ1FUdVlQSQovUVQ5\n",
        "czVrdGJqSkpQMVh6Z2dKQUF5bHR0d09MOFc0cHBuS0toZXpyN2FhSWhldGp1cmVI\n",
        "dVNPeGN1ZHFiWnU0ClZFaU5GYlh2UmNHZmpYR1hZR09PU29QQ0FJeVE1ajdZb0dC\n",
        "T1U0WnQzbzQ4bjNDbWJIdm5XWDU1RGU3YlU1bjgKdStNYkZnS0ZNdz09CjwvcHVi\n",
        "bGljSW5mbz4KCjxwdWJsaWNJbmZvIGtleT0iRSI+CmVOcGxrYzF5MmpBVVJoZmQr\n",
        "U255QXBtUmJNaXVDeVFrZy94REpQbGVZdThNOHNTMlJEQXRVNGdmcVUrWktWM20K\n",
        "VzU1dmQwNzA5OGZ6dnpHUmJzdW5WMkQ1bGo5bG9uN0FpRThybmx0eXpTM2xCcHlx\n",
        "QnFZUlZHR2hlTGNFbS84Zgp5U29JbThaVFZnaTNoa1J1Z0lTaElNWkVCaFFEUktZ\n",
        "cnM2bThGSnFvQ2VES0d5b0ZBcFlXamdzbm5FYXhvQWhHCk8zUTd1ekc4QzNMUnJp\n",
        "WVZ0Y1RQUjhyeUxqVm45OWE4YXVxbXhvZTJrVzZuRS9XN2hPbXo4L2pTeXJEZGov\n",
        "M1oKN3Z1Nm1RVkJXZjZxZk04amhPSVBDaXF6V0FYbmw0Q25NK0ZqRXh0ME5aenFX\n",
        "MFpsWE1mbTdYanFleGg3YzBqYwpvaEJUbmNYMTNYemdSOVNsdHp2T2JMRFVMVjNx\n",
        "THUzWUR6aUdpeHZsSHVlUXRuT2ZWTGk2SDJpUkhmYmwxWXlhCllLeVVQc2xidHc1\n",
        "VmRBUk1MQmdHSURrZkhzS3VCcFppS3hscWYxZjZrK1VHL1lQbit2d3plcmdYNWZw\n",
        "YmppOHAKV1lZSQo8L3B1YmxpY0luZm8+Cgo8cHVibGljSW5mbyBrZXk9IlMiPgpl\n",
        "TnBsa2JGeTRqQVVSWXZ0L0JYNWdjeElHQmNwVWlCWndoYVNOM3JXazRJNlkyYUFX\n",
        "QkF5NjJUQW41U3YzSVNVCnVlVzVwN28zKy94ei94MG1sblZ6OTRSTTEveHVKZFkz\n",
        "bVBIemd1dVdqTHFsSEhDcjNJRlpqOHEwYUhZdDhmR24KSXl1SHFZb0RaVVpzUzh4\n",
        "bGhTUWREQUhJQUJWRDc1bDFVTGxCQ2t2VUdYSGtrVXBoY0ZSQmpFb1Qya2FYNW4r\n",
        "bApyNTJESEIzNDNqWG9GcStYekMvM2J6YkZmK3VCamszWmhFM2FrVDVRRTQ3cUdv\n",
        "KzIyRHl6SEtiR2d0aE5jWWk1CkVaY2k0SnpHNWZqc3ZOcG56VXM2YVNJMUlMeUZn\n",
        "ZklnWk0xZitvOCsxQjlmOHQ0SG1IMDVUN0h5WFNReXJNbTUKTTZkR1F5VlBkbG9V\n",
        "V1RkQk5JbTlBN0g1K2lndjNTeU5YWUJsZTl4Tm0zeVBma2p6dnZSNVJMR0tzNGRp\n",
        "VzhicgpLamRUZTNod0VPSTFDMGloUldDSWt2UERiYkFSc0JDMVpONE9GMld2VElN\n",
        "ZmJsemIxOGZzdHIxb3lsOTMvQWMvCmJJUlAKPC9wdWJsaWNJbmZvPgoKPC9wdWJs\n",
        "aWNDb250ZW50cz4KCjwvbWFzdGVyQ3JlZGVudGlhbD4KLS0tLS1CRUdJTiBNQVNU\n",
        "RVIgS0VZIENSRURFTlRJQUwgU0lHTkFUVVJFLS0tLS0KVmVyc2lvbjogT3BlbiBU\n",
        "cmFuc2FjdGlvbnMgMC45My4wLWcyMzViMWYwCkNvbW1lbnQ6IGh0dHA6Ly9naXRo\n",
        "dWIuY29tL0ZlbGxvd1RyYXZlbGVyL09wZW4tVHJhbnNhY3Rpb25zL3dpa2kKCkNv\n",
        "QUJrT0RnWStvMWI2UTF2dU1lUlRROEdUWlRIRVFXMmhFZ3B1M1JrNVF6TWplZjJY\n",
        "VjBJT05KQ0tNenp0VG8KRWdHUHhpV1l2cTlqa214a2x6ZkorRVRZZDZ5aXVjbk44\n",
        "UDE4M29lM0NwSWF0ekdCc1NHMXRvRXpXL3UxVWhJTgo0eHhyQkZPZ0RVMDJIdkpm\n",
        "WTNIblRNRzh1aSsyNDVkWXNiMkZUYVJ2azQwN0d2UT0KLS0tLS1FTkQgTUFTVEVS\n",
        "IEtFWSBDUkVERU5USUFMIFNJR05BVFVSRS0tLS0tCuUxCit0SXp0MzNwNUR0cGdN\n",
        "QmZ4NVoxU3RVZDQwU083Mk9Cc2p2U3VlRURnSGRuErUxLS0tLS1CRUdJTiBTSUdO\n",
        "RUQgS0VZIENSRURFTlRJQUwtLS0tLQpIYXNoOiBTQU1ZCgo8a2V5Q3JlZGVudGlh\n",
        "bCBueW1JRD0idldEeGZQaHE4c0hkYzI0cGtuemRTMDlGZldzZkExdFFEN2x3ZFMx\n",
        "UkZZQyIKIG1hc3RlckNyZWRlbnRpYWxJRD0iNXc3VTVsNDlOYU9XOHFXMk9maXNY\n",
        "cVhJNTdvRHM1RGZOWWo5WndzUWpvciIgPgoKPG55bUlEU291cmNlPgplTnBsa2JG\n",
        "eTRqQVVSWXZ0L0JYOFFHWWtqSXNVS1pBc1lRdkpHejNyU1VHZE1UTkFMQWlaOVdi\n",
        "QUg3WGZ1QW03ClhXNTU3cW51emY3OGVKZzlmSVdKVmQzTW5wSHBtcy9XWW5PSEdi\n",
        "OHN1VzdKcUZ2S0FYZktIWm4xcUV5TFp0OFMKSC85MVpPMHdWWEdnekloZGlibXNr\n",
        "S1NqSVFBWm9HTG9QYk1PS2pkSVlZbTZJSTQ4VWlrTWppcUlVV2xDMitqUwo0cWYw\n",
        "dFhPUW93UGZ1d2JkOHUyYStkWGgzYWI0YXpQUXNTbWJzRTE3MGdkcXdrbmQ0c2tX\n",
        "MnhlV3c5UllFUHNwCkRqRTM0bG9FWE5DNEdsK2NWNGVzZVUxblRhUUdoUGN3VUI2\n",
        "RXJQbHIvOUdIK3VOVFB2Z0E4MC9uT1ZhK2kwU0cKRGJsMDV0eG9xT1RaVHNzaTZ5\n",
        "YUlKckhmUUd5K09jbHJOMDlqRjJEVm52YlROaitnSDlLaUwzMGVVYXpqL0xIWQps\n",
        "ZkcyenMzVUhoOGRoSGpMQWxKb0VSaWk1UHg0SDJ3RUxFUXRtYmZEVmRrYjArQ0hP\n",
        "OWYyN1NuN2Y0bG95bStICi9BWE9hSVR0CjwvbnltSURTb3VyY2U+Cgo8bWFzdGVy\n",
        "U2lnbmVkPgplTnFGV05jT3JFaVNmZWNycnU3VFNtZ0dLS0NBVnZkSWVPOTl2VUZo\n",
        "Q3UvdHQ4M0hiWFhQcm5wYXU5ck5wMVFtClJKb1RHWEZPQVAvOGo3LzkzaGhlbEkw\n",
        "ZnJpd2FQUGRENWVNZnJNTnp2T0hKdFBiSFBDQWx5K2VYSHk2dHh3RHcKYTVOZjdK\n",
        "eG5lYjlXU2Z1anZ6cVorKzNuSG5KbllYMG1jcEd5OXdNYm0vN09YSmdTaW5BcGFH\n",
        "UzFPYUk5TWhkeApoSmo5Q2Z6b2ttWE41eit0L0c0QlB3Z2ZiekhLU015UW5NS0hX\n",
        "VlJMTkVVeVRnemNnbk9GRWRmVTYxanNlcGgvCi92akhkeDkvck93TzIvek8vd0hr\n",
        "eHRnMnFYQmhOZTA3OGI1Q1RFVGFZdHpVOHVLckwzcUo3VjBSYjNSMmZUSFQKUFlQ\n",
        "VzZPcEZoU2t0RVZHeDBSMEJSQ0dPRTFPLzNRVkI1a3BKRlhLb0JCbXE5Nk0wZGdz\n",
        "VXhyMHBpU201YkNHaApUTUt1MGxHaFNxOGVtZmhMZTYya0MwZ1FoYnhNK0FnaXNi\n",
        "emxUMWFsM2RLb2JpM2I5R3NRdGNGS2RWT3RNem1PCnU2Y3NZNlJmTlhwZFRiSWZ0\n",
        "dXdEckYwQW13cDRqVXg3T0t4aU85S00zQjRKbUVVZk5FbXg1TGJzeGUzU2hVY0kK\n",
        "dU15bW8ra3piR25DeDVtSEIrWEV2TFdNQUZmektOWU9mR1N3bU5pQzd3RExsOXhI\n",
        "ZWkreHhZLzFQbnpteWM5VwpPME9VS0lHYjRWbDdTWk13MUp0QkFsYXdLd0pjMnNM\n",
        "NGVnNlQ2YjI4WmFtZVZ5SXJzMVRZNGdXYTczWTJZS29XCkhselE3NmxuMUdBcFVX\n",
        "cWxvWER1SjNjTmFWSU10SVg0dUJmVWx6NWs5cEZxalc2VmdYZXFDcmRPVEhvY3ZN\n",
        "YmIKYTVjV1hKQTFLUXl5a2trVkQ4THRpZUs3N2FzREpRQ2lJek9SdlJYNEZmb0x2\n",
        "TUN2LzNJWmEwdmI2djA3M0pNUgpMTjMySk9NQWxjeU1PN210bldtOEFsMnVQeVJ6\n",
        "WkQxejVPckYxS0ZiVm9TaTBVRVRrbS9lNitUeW1VY2pRR3l6Ck9QbHFSdThFdU9J\n",
        "VUdENlBVczFtSWFnY0EyUEpLYjQzTmtzYjdZakRteEVJVzVJREhPSks4VElFdDVq\n",
        "M0dLaVoKZ1Q1WUtsdlYrM1hyeUt2YmcxbEl3d2phU2gvYTk0allwUjFseXo0WkpZ\n",
        "L1JJMm1zS1U5OHBnSXFyQmZUdGdiUQpkMmN4eFVnY0x3d1ZSUVJGV3cvc2RVQnBM\n",
        "N29RUFRhUHRZRVhxYStOVFVpTytlUm0veG43aGhaZW01WGJvYTNjCndBNDN2YkZ1\n",
        "VzZ0TzVsbGZzVHE1VktjSWlrV0JjVjA2WkgxeDhwUkJacSs2VndoTGZkVm54RGpX\n",
        "eVJlcVdIdlIKRVVCcHczSm03cFhuenNydmJ3SURNOVRNTDhmMXloeno1MWRKMzQ2\n",
        "cjF0ejhmTzlDa3Jsakc3MjFONXJObjlCago3V0lFZEtjNnB4V2FBN3BqaVdrWVRE\n",
        "TUk2MkNNR2xCNWFuSE9yalphK3NkejN6dk0xQzZyaUhwQlRjT1NIL3VuCjRuaDhE\n",
        "dlJ4Z2orRUI4blNwU0tBUFp6c2d4K2RnMVdFUlY0Uk1Yc0VIN0ZVU1lFVFNlbkkz\n",
        "bGdremd3dXQ3MEwKeHRYdW1DL0E3NXBHdzNPS25TM24vdERybGJPZCtYN2xPbVBy\n",
        "VkRIY2RMWEhiVW1EYVNkVWhRMTZ4T0NaUyt0RgpNcUpzQzM2bEFGeEtrK3V0c3k0\n",
        "OE5OV0NGb3FxbldSbTdXZTBJNGZKNmZVYlMvS2xaR0F6ZHZQcUdhdDQ1b2ZMCmpK\n",
        "U1BkaThmVEFBSW9VaStuWlppN1cvSTBSWU14Nm1SSi9WU0FWZTRIcFdIQnlaRmVw\n",
        "S1pTdXMyQm00T050MjAKUnJFUWJPK2szdUVuRUY3UkcxYko0dUZlMGN1b24xU3hS\n",
        "TlFlU2YycTljY3pVdXFOS200amh4aU5ENVRUOU4xNQplQjIxWHFUTk9LNDR3UU0z\n",
        "cGFTNUFtcVRDTnN0cUR5T2EzNTc2YVFlYmVxdkJpckZ6MktsV2E4c1hsUzJPYjJW\n",
        "CmY4QmdIb2dOT1RWWjAzSWE2T2RIb1BKb2pmSEtBK2JtTzY5MlVRMFQ5RFFXZU53\n",
        "NFRVODhacWE5MERZdU9lTm8KL0dWK0F2ZUZHSHlDcGVRYnV3Q2FiSi9ZdGVaUzZH\n",
        "ZjMvSFRONXd2THJNU0E4eDdHODVrUjVlbXBJYmdqVzhMVwpic1Fqc25zbWF1YkZ0\n",
        "YzJiYkxVWkFOT1dYT1VGeEhyWmFzZTZ1MCtmSWo1cG13NklaeUk2OXVxdDJyNXBt\n",
        "ZlZaCjhvYS9IdmpFQ2pEZjFRb3IzbEpBSkVBK3RqSHJQczFBNkkvRHlzZEhVN0Nl\n",
        "di9QUm8zMWFpYTJpYVNqck9MeCsKL1lMV1A4aFRmZzNJM0pFb0RVbldNSmNuY0J2\n",
        "aTlvUlh5R2N3c041Ukt1clMzdU1UeCs5ZTgvNSt2SGFqZjVwVQo3Nm8yaGtwU3Fi\n",
        "WnVLa0lkMXZvdFFUUWZTZ2EyRHJPWTVUMTg0TjUvY1l3OG0wU0Z4WU5oR2tFZE1Z\n",
        "V1dneERPCjZFTC9NZy9Yc29ObFlDYnREQkEvb2tDb2dMMFRZQ2dET3RQOThDak13\n",
        "M2tHMGpINThtQ1JzUERxWEI0cThwaHIKTHFYbjRjNUEzU2lYaHp2NW9VZ0UzN3VK\n",
        "VG5tazNvQ3VIZEJpZjEreHp1Wkg1ZWcrMU9FOUxnY2Fza09PMUZWegozajZlZk5m\n",
        "eFU0V25WRkd2bWhoS01hajB0amFyZnRzQ1ZGUHgzS1JjbUVaTFkyS3dPTkw2b2RI\n",
        "RzRWT0t4MFFWCjZYWkxkc20zOEMxSy9GeFp4Ym5TZDNpWFpFNnBNU01TQUhqUFdJ\n",
        "cjV4cWxTZ1cvV1JmMm5qQkdpWkFRRjgrYkoKL0ppc0ZrTjBNQjhyZlhwTTZXYUZ6\n",
        "b0FoQ0VFWG11eHZsQW13MDd6R1lPcUppOEtXeG9VbWp6Y1l1aURremEySwpKT0Vt\n",
        "Q2dmU08wUk5YYWhKdWNPQUxNclhUYUtqNXc0c2xXQUVJT0FLNm1jRmRkM1gwZHNN\n",
        "ZDNramhWVlcvRUZWCmJWMTNCTFVpN1BndXJOd3haVlIzZWNQVGhQYkxuT0lkVHZV\n",
        "ekNCU0NFNGtKdkpneGxTcGNXY2xhV2N5ekNKUEYKVVBWVlcwODIrR2dZRjd6eXFO\n",
        "MW5vUTROdENCZWRnMm1QaFBaamZyTkM4UTdlcndmd3YxMGFsVElmTmNxbVZpNgpM\n",
        "S2g3N0JEaGduSlQ1ZTQzbDJQbmRzYkpyczh5a2xweEVtbU5tT2dPQm1pUzhmYmpZ\n",
        "bVNqWFJLTVJWaVhvM1o2CmpiYk5EMlYzSUpaQWUrL21abGcxM0U2OFlqRVVDL2xG\n",
        "Q0d1MFArS3c3VHZnMVJ6T2dVOEp4cGRtVUUxUjN0QzQKMFRjcVUrUHdRWVlkMmlG\n",
        "amQvWFdSYytjMVhkdXdrZ29uQ3J2aGRoYzdjNE53TVFUSmRGRVJPYytBdysxUEVl\n",
        "awp0S2QrWDU0b1k4RytjYVlzZ1pjdnhJWCtxcmdPWDlDUSthZ2g0MkFuMjVXSzZR\n",
        "R0dUQS9YQit3TEdXemo2b0VvCmF2bGxRWlhIem1ER2oxSjBQWjhHbERjYlFuNUMz\n",
        "Z3pPaWc4M1FSVlYzR1RvMHY1b0FFNjU2b1hET245Z28wVGcKcXpSYkNSOHpUOCtO\n",
        "N3B3WngrL2J5aHRDVGVDVjExWEhLSVA4aW92d0F4NWEvSUt5K0FrUUhIZU5OWUdp\n",
        "cnJwOApVS2NnTmUrYXBGSzBCc3U0VXU1UzhsSTlGaUZJb3U0TmI0Y29rYm0rcHZT\n",
        "Yjd5Wk1tN1FjSUtwNmNpNmxyd1VPClh4WkNmbXMyek5TOHd1aXUraXFPQ1AyRzhB\n",
        "NTZXbkFQaVI4RVpDdzRkSGJ5S0sxRFZqR2lDZ0ZTV3BJOFRHKy8KUktrVlc4RFhq\n",
        "Z3BkWW9EVlMwTjhwTmxJbmZ5eUtZdjBNYUZ5NUx2UmRkcUlpZ3pIMTYyTmpPSUV4\n",
        "TU1Pa0dEYwp5RGVrd0x4UUlYUEtQVkdEdUtseCtmUUVCMjY5RlJyc25GUnpXWkxz\n",
        "OGMxVUVlMTl1MW5BVXcxcUFKcWVONk1PCjhxMGRlVGE4ZlVTdTBKT3l2Z056V1J3\n",
        "STdtZnp5d1hTYmNhSjVrbGZ0Ti9zNHJhTGJQSFU1aEZ0RUFMQTY4eCsKeXhxY3Qw\n",
        "NEtkNXRmQmx6Y2lOSjc0cjFaVFVWTmM2VlpWbzU4WllWdENrc2E2Z2xyVnN0b3A3\n",
        "ZWE3QWtOb09GNwprNEt3V3N1UmY3c2FWVE9NbjdIS25LSnMzRXJwRFlJUUpYQWVD\n",
        "SUZ6WngwTXcvRlg4MlYrZjZWNndLL2pIejEyCjZOZXZXbGgrdklldFgzLzdpZjc4\n",
        "YzA3dWkrSEhWNWY4OXBQKytWOWF3QmUyeC8zVkFreVJQUjBYdDJuT1dRYWsKZytO\n",
        "QWFWN0MyTGdOQklhZFppS0xLdkc1cnFrZk5nWmIyUXFERk1pb2h2bEcvSTY2VXB6\n",
        "S296TzlQaEM2VFJJQgoxNW9XN1RHWkR5WlB2ZlpRN0wwbGRYbmFTOTBvcVU5VkNZ\n",
        "UXNUYjVNSEFJZm1maytoSWx2QTR2dlR2andPejNSCjNKSjNiYjUzOHNmd0ZsUXNR\n",
        "TC9VekRuUGx5d3JYTmlRRDNIU0lJSEdZUURDWjgrZUk0M085dlMrdVZtaW9qNTcK\n",
        "UmY0bnlCK1JTeGljdU11V25MMTJhRE9uejF2dnowQU5ldjlrR0xWLzl4Z0JQTGNL\n",
        "T1o3VU4zMmZoaDNiOUJ2WAoyeEVwRFhRSm95TEZQcDI1Y2RpV3Z4eDNRcEluSFlx\n",
        "bzdNYmVwOFBoS1BqbXl6ZWc4anNaVGlLMmwwTzhGbnBSCjVmQmpJVjhnT2F3cGVw\n",
        "M2hRT3JuZ21XZ3BTT2x2ZVlSNVZ5VmpDb1pTMkNFT1JMQlZ3OGhFM3BqeG5qSUl1\n",
        "U2UKU0RsczZNMHF0cU5MTWU3aUN5UGM1NXh3K2NwbG85Sk9iQXFDcEdGays1WEJG\n",
        "QUsxRUpCQmh3ajJyQ0Ridi8zMgo5WW8va2Y3ZmNPZi9HL2UzYUhhLzQrNFVHZWxF\n",
        "TjQwSGk4dW42dkNsdW92ZnZHWFQ2SzNUSkllTEZ1S0szUncyCmZ4V0dRcjZ5QUFZ\n",
        "ZTZVSm1hR1pTVnJTQ0ZIbjJHNnExYU5hQUhrNlpCZmRrRXgzZTFSQlhtbTFMN0Rs\n",
        "MlBmMTQKQlh3b0R0dXRyQ2tGZ0dUTllOcm43bWVWelpCVlAybENNUm1ibDJuVjUx\n",
        "U2t2UmJPekhVK2FHemhkQjA0ZU9BcQpiMTkrTEJyUzZ6VytlS0RDYVVScWs0RHdK\n",
        "UWxIQTRKOWtzNHRUekFNemI1Y2h5MzZoS1puVHdTSUE1ZGNrMFZhCnZHdTQ3SXFq\n",
        "VCtOT1FMeUJ5SWhib3hQM3NLUFpzTmhrZ2llY3BJL251MERWTDNtVWpmNXFZb1JF\n",
        "ZlFqU1BBVmwKTituaGszZzN4SjcrcUc4SkI4SVEzWmpGUWlyVFBMZWxMdndjNGVw\n",
        "bjdnaXA1ZFVaUlhiOGxtRkdrbGR0eGRyZgpnK1lNR2dsYjUvUUhtQzJNMFFER1U5\n",
        "NnRITTZMckpGTjMwYmVjU3ZHY2xsNWNkNHZkSERjUmM2R2ViVDcvZU9TCjFCTWky\n",
        "ek1yWU1laWlQc05qVVVOY0djc2ZRVDUvOGZjL2Ztbjd1KzVMK2IyaWhaeUFCMmNS\n",
        "V3NiN29Zc3g3Q1QKSFZkRkRrLzBMc2RJcVdodyswamx6Q0xiN0xteitBMThtUVR4\n",
        "ZnFwV1IydzdId3c1YnNKMVl5WTJTaVh3VHNwRApkRUtYcytTUlUrVTR2ZVJFbDly\n",
        "eVYrSGI5ejJLSUlRS1FHYm5uNlhHUHVVOHNObDBzYVorVkVFMXVnZmRsTTM4Cjhv\n",
        "TDgvVXBERTZUYjgrb0lodjBLSzdvYmcrY2pCUk91ZWpPQSsyYXYrc2loNHR6c0tK\n",
        "MmtOUzVoVEI1QUxQNHMKVXBwL2xad0ZxUjlyQ1NYNThSV09VMFErVDNSdW9xOXMw\n",
        "d1VSRHdGWUJMdXV1YktwYitXWDh3MGxLSmhmTTZkNApIbVlxMkJxLzloeGZuMUw2\n",
        "T3dKS3RLSVZkSzdUbzduTEhFVStVMzRDUHYvQ1pnTTV2N3JyKzcxZ1AxSWJTZnEw\n",
        "CmcrUXhoYkFZQmhVeTZONWVwWHkxSUR5RVpWNkJseDVmWHdadFAwb2VOb0ROTXZj\n",
        "djA4VUN6blhMSElaVldxUEoKL2dMWmVSa3VzMkw0OEtiTUJ3UTFmdkxaSWJXekNs\n",
        "Q2V0K2VvV1lSRzJ1MEdqRU5jL2crOG9iOEcvaitHL2xKOAorZ2Z3YitXcnY5YXQv\n",
        "cWhtMFo3djhQK3FZQVg1dkZSRC84c1BjOHo3SDk2YzlFdnlYcjhqeXcvNDd4VDZk\n",
        "L2h2CjVRUEZVNlNBQVhib3VxLzlYMzU4MW5YOEJZTEthdjFzNmQvZlF3Y0plZHNP\n",
        "eC9mdlBXL3pHZnJkMXQvKzNSWjAKVkUwRjZQbWEvUExqMjl3ZHg0R3ZQWnBoRnkr\n",
        "a1hxQ3ZzRTlxQUw5MFRCdGxvc20zckR1ZjIxZTZPbTA4OUYxdQp1ZDNqZlNtdG54\n",
        "TCtjUzNFV0R6YkRIQ0hnN1Ztd2ZmSmNJU09zYXM4OUxQc2l5TDc2K1pEZk9SU2VD\n",
        "VkRYaW1LCkRPdEk4dlNCbFBSekVoN3V1aXZIYUExd0VLUmZHbjRQc1J6NWVWY2JU\n",
        "Y24raC9RNWlFcUh4elhuQkFXS21YQk8KN2djeWFidjg3Vi9YeWh2Yy8zMnAvd25Q\n",
        "RUp2bAo8L21hc3RlclNpZ25lZD4KCjwva2V5Q3JlZGVudGlhbD4KLS0tLS1CRUdJ\n",
        "TiBLRVkgQ1JFREVOVElBTCBTSUdOQVRVUkUtLS0tLQpWZXJzaW9uOiBPcGVuIFRy\n",
        "YW5zYWN0aW9ucyAwLjkzLjAtZzIzNWIxZjAKQ29tbWVudDogaHR0cDovL2dpdGh1\n",
        "Yi5jb20vRmVsbG93VHJhdmVsZXIvT3Blbi1UcmFuc2FjdGlvbnMvd2lraQoKQ29B\n",
        "QkRMY3VOVVV5Z05rd3ZGSWlCQmEzNkZUTHNnbzV1STdRSXVFNGpXMlA4M1EzR0ZF\n",
        "NUpnYm9rYk5RNkY5ZQoxYVcvRHhDekVJU3VpVEtBNjFtOEZkR2ZLczNLUXNnU0FG\n",
        "UlBQMDN2ZDFWZ3BSN0FiWlRteDFsU1k1TUxaOEE2CnBSYjhoNWdZYXB5a3JTSnFC\n",
        "aDNoSjFOeXBlQXprUkVGNjRDelhkaTBIY2ZGUkl3PQotLS0tLUVORCBLRVkgQ1JF\n",
        "REVOVElBTCBTSUdOQVRVUkUtLS0tLQ==\n",
        "</credentials>\n",
        "\n",
        "</signer>\n",
        "\n",
        "</notaryProviderContract>\n",
        "-----BEGIN CONTRACT SIGNATURE-----\n",
        "Version: Open Transactions 0.93.0-g235b1f0\n",
        "Comment: http://github.com/FellowTraveler/Open-Transactions/wiki\n",
        "Meta:    Sv5t\n",
        "\n",
        "CoABa1zSSUx+ZdgqjdKDPOfBoKAqXbkHRcc65fPKinG023ryPfLrMsJLa60bfyC3\n",
        "AJJVgKeOa1L0opttNaT/brL2UTEFU5lkO/0CBSTOHpXh0voi+iDGzBpQzIgrdTb4\n",
        "uEw2hYXEUx55aZMRAS0LWnfCqaM/LWPfs3gIFMW0+IjOJ3Y=\n",
        "-----END CONTRACT SIGNATURE-----\n",
        "~\n"
       ]
      }
     ],
     "prompt_number": 2
    },
    {
     "cell_type": "code",
     "collapsed": false,
     "input": [
      "walletxml = decode(config_dir + \"client_data/wallet.xml\")\n",
      "cached_key = BeautifulSoup(walletxml).wallet.cachedkey.string.strip()\n"
     ],
     "language": "python",
     "metadata": {},
     "outputs": [
      {
       "output_type": "pyout",
       "prompt_number": 13,
       "text": [
        "'CmAAAQCAAAD//wAAAAgzYyU9vEeN3gAAABA3S1A/hTGOBA8FMIPcgSHgAAAAIPaQ\\nEUMcyJ+UgBp7vLPJkM46X/bEvZ5FWgP+qKBQbfGjAAAAELOqV63ivV587wDjMFUu\\noAY='"
       ]
      }
     ],
     "prompt_number": 13
    },
    {
     "cell_type": "code",
     "collapsed": false,
     "input": [
      "import pyopentxs\n",
      "import imp\n",
      "\n",
      "imp.reload(pyopentxs)\n"
     ],
     "language": "python",
     "metadata": {},
     "outputs": [
      {
       "output_type": "pyout",
       "prompt_number": 10,
       "text": [
        "<module 'pyopentxs' from './pyopentxs.py'>"
       ]
      }
     ],
     "prompt_number": 10
    },
    {
     "cell_type": "code",
     "collapsed": false,
     "input": [
      "opentxs.OTAPI_Wrap_It()"
     ],
     "language": "python",
     "metadata": {},
     "outputs": [
      {
       "output_type": "pyout",
       "prompt_number": 15,
       "text": [
        "<Swig Object of type 'opentxs::OTAPI_Exec *' at 0x7fc283559360>"
       ]
      }
     ],
     "prompt_number": 15
    },
    {
     "cell_type": "code",
     "collapsed": false,
     "input": [
      "opentxs.OTAPI_Wrap_LoadWallet()"
     ],
     "language": "python",
     "metadata": {},
     "outputs": [
      {
       "output_type": "pyout",
       "prompt_number": 18,
       "text": [
        "True"
       ]
      }
     ],
     "prompt_number": 18
    },
    {
     "cell_type": "code",
     "collapsed": false,
     "input": [
      "pyopentxs.get_assets()"
     ],
     "language": "python",
     "metadata": {},
     "outputs": [
      {
       "output_type": "pyout",
       "prompt_number": 3,
       "text": [
        "[]"
       ]
      }
     ],
     "prompt_number": 3
    },
    {
     "cell_type": "code",
     "collapsed": false,
     "input": [
      "# create asset\n",
      "\n",
      "nym = pyopentxs.create_pseudonym()\n",
      "open\n",
      "pyopentxs.register_nym(first_server[0], nym)"
     ],
     "language": "python",
     "metadata": {},
     "outputs": [
      {
       "ename": "ReturnValueError",
       "evalue": "API function has returned error value ''",
       "output_type": "pyerr",
       "traceback": [
        "\u001b[1;31m---------------------------------------------------------------------------\u001b[0m\n\u001b[1;31mReturnValueError\u001b[0m                          Traceback (most recent call last)",
        "\u001b[1;32m<ipython-input-84-851e81f34afc>\u001b[0m in \u001b[0;36m<module>\u001b[1;34m()\u001b[0m\n\u001b[0;32m      2\u001b[0m \u001b[1;33m\u001b[0m\u001b[0m\n\u001b[0;32m      3\u001b[0m \u001b[0mnym\u001b[0m \u001b[1;33m=\u001b[0m \u001b[0mpyopentxs\u001b[0m\u001b[1;33m.\u001b[0m\u001b[0mcreate_pseudonym\u001b[0m\u001b[1;33m(\u001b[0m\u001b[1;33m)\u001b[0m\u001b[1;33m\u001b[0m\u001b[0m\n\u001b[1;32m----> 4\u001b[1;33m \u001b[0mpyopentxs\u001b[0m\u001b[1;33m.\u001b[0m\u001b[0mregister_nym\u001b[0m\u001b[1;33m(\u001b[0m\u001b[0mfirst_server\u001b[0m\u001b[1;33m[\u001b[0m\u001b[1;36m0\u001b[0m\u001b[1;33m]\u001b[0m\u001b[1;33m,\u001b[0m \u001b[0mnym\u001b[0m\u001b[1;33m)\u001b[0m\u001b[1;33m\u001b[0m\u001b[0m\n\u001b[0m",
        "\u001b[1;32m/home/jweiss/workspace/opentxs-tests/python3/pyopentxs.py\u001b[0m in \u001b[0;36mregister_nym\u001b[1;34m(server_id, nym_id)\u001b[0m\n\u001b[0;32m    229\u001b[0m \u001b[1;33m\u001b[0m\u001b[0m\n\u001b[0;32m    230\u001b[0m     \u001b[1;32mif\u001b[0m \u001b[0mcontract\u001b[0m \u001b[1;33m==\u001b[0m \u001b[1;34m''\u001b[0m\u001b[1;33m:\u001b[0m\u001b[1;33m\u001b[0m\u001b[0m\n\u001b[1;32m--> 231\u001b[1;33m         \u001b[1;32mraise\u001b[0m \u001b[0mReturnValueError\u001b[0m\u001b[1;33m(\u001b[0m\u001b[0mcontract\u001b[0m\u001b[1;33m)\u001b[0m\u001b[1;33m\u001b[0m\u001b[0m\n\u001b[0m\u001b[0;32m    232\u001b[0m     \u001b[1;32melse\u001b[0m\u001b[1;33m:\u001b[0m\u001b[1;33m\u001b[0m\u001b[0m\n\u001b[0;32m    233\u001b[0m         \u001b[1;32massert\u001b[0m\u001b[1;33m(\u001b[0m\u001b[0mopentxs\u001b[0m\u001b[1;33m.\u001b[0m\u001b[0mOTAPI_Wrap_Message_GetSuccess\u001b[0m\u001b[1;33m(\u001b[0m\u001b[0mcontract\u001b[0m\u001b[1;33m)\u001b[0m \u001b[1;33m==\u001b[0m \u001b[1;36m1\u001b[0m\u001b[1;33m)\u001b[0m\u001b[1;33m\u001b[0m\u001b[0m\n",
        "\u001b[1;31mReturnValueError\u001b[0m: API function has returned error value ''"
       ]
      }
     ],
     "prompt_number": 84
    },
    {
     "cell_type": "code",
     "collapsed": false,
     "input": [
      "opentxs.OTAPI_Wrap_GetServer_ID(0)"
     ],
     "language": "python",
     "metadata": {},
     "outputs": [
      {
       "output_type": "pyout",
       "prompt_number": 39,
       "text": [
        "'Hz1GNVU48eYeXfNjk2eTo22RJA6RhzGVHu0O6jFI953'"
       ]
      }
     ],
     "prompt_number": 39
    },
    {
     "cell_type": "code",
     "collapsed": false,
     "input": [
      "import io\n",
      "foo = io.StringIO(\"asdf\")\n",
      "from contextlib import closing\n",
      "with closing(foo):\n",
      "    x = foo.read()\n",
      "x"
     ],
     "language": "python",
     "metadata": {},
     "outputs": [
      {
       "output_type": "pyout",
       "prompt_number": 6,
       "text": [
        "'asdf'"
       ]
      }
     ],
     "prompt_number": 6
    },
    {
     "cell_type": "code",
     "collapsed": false,
     "input": [
      "opentxs.OTAPI_Wrap_AddServerContract(open(\"/home/jweiss/.ot/server_data/contracts/LsRtDxuow3GC7jpH6mU2toowGbN5ROlTXJU323C7yum\").read())"
     ],
     "language": "python",
     "metadata": {},
     "outputs": [
      {
       "output_type": "pyout",
       "prompt_number": 2,
       "text": [
        "1"
       ]
      }
     ],
     "prompt_number": 2
    },
    {
     "cell_type": "code",
     "collapsed": false,
     "input": [
      "contract_id = opentxs.OTAPI_Wrap_CreateAssetContract(nym, open(\"/home/jweiss/workspace/opentxs-tests/test-data/sample-contracts/btc.xml\").read())\n",
      "signed_contract = opentxs.OTAPI_Wrap_GetAssetType_Contract(contract_id)\n",
      "#pyopentxs._otme.issue_asset_type(pyopentxs.first_server_id(), nym, signed_contract)\n",
      "signed_contract"
     ],
     "language": "python",
     "metadata": {},
     "outputs": [
      {
       "output_type": "pyout",
       "prompt_number": 10,
       "text": [
        "'-----BEGIN SIGNED CONTRACT-----\\nHash: SAMY\\n\\n<?xml version=\"1.0\"?>\\n<digitalAssetContract version=\"2.0\">\\n\\n<entity shortname=\"Satoshi\"\\n longname=\"Satoshi Nakamoto\"\\n email=\"satoshi@nakamoto.com\"/>\\n\\n<issue company=\"Swedish Coins\"\\n email=\"info@swedishcoins.net\"\\n contractUrl=\"https://swedishcoins.net/contract\"\\n type=\"currency\"/>\\n\\n<currency name=\"Bitcoins\" tla=\"BTC\" symbol=\"BTC\" type=\"decimal\" factor=\"1000\" decimal_power=\"3\" fraction=\"mBTC\" />\\n\\n<!-- CONDITIONS -->\\n\\n<condition name=\"audit\">\\n  Bitcoins are audited monthly by highly trusted people.\\n</condition>\\n\\n<condition name=\"backing\">\\n  Digital Bitcoins are payable to bearer in blockchain Bitcoins,\\n  at any exchange provider supporting our contract in any denomination\\n  they support, or through one of our direct agents in 100 BTC increments.\\n</condition>\\n\\n<condition name=\"buyback\">\\n  The Issuer reserves the right to buy back all outstanding\\n  currency, thereby terminating the use of this instrument.\\n</condition>\\n\\n<condition name=\"liability\">\\n  Bitcoins and their blockchain are solely liable to perform according to\\n  the conditions specified in this contract.\\n</condition>\\n\\n<condition name=\"mint\">\\n  Float - the total quantity of Bitcoins is created by Satoshi Nakamoto.\\n  The quantity of Bitcoins that enter the market yearly is strictly\\n  regulated by cryptographic algorithms.\\n\\n  Any server operator using this contract will not issue any more\\n  digital BTC currency than he actually has in blockchain Bitcoins.\\n</condition>\\n\\n<condition name=\"privacy\">\\n  The purchase, redemption and trading of digital assets normally\\n  are done on the basis of strong privacy.\\n</condition>\\n\\n<condition name=\"purchase\">\\n  In order to obtain Bitcoins, you must purchase them from an exchange\\n  provider or receive them in trade.\\n  The issuer only accepts direct bail-in of blockchain Bitcoins from an\\n  authorized exchange provider.\\n</condition>\\n\\n<condition name=\"rate\">\\n  Issuance and redemption will be performed at no charge.\\n</condition>\\n\\n<condition name=\"redemption\">\\n  In order to redeem Digital Bitcoins, you must use an exchange provider.\\n  If none are available you must make sure you trust this issuer\\n  and make sure this contract is enforceable in your jurisdiction,\\n  and make sure you are trading in a BASKET currency so that you\\n  are not entirely reliant on a single issuer.\\n  Digital Bitcoins are redeemable to exchange providers in 100 BTC increments.\\n</condition>\\n\\n<!-- NYMS -->\\n\\n<signer hasCredentials=\"true\"\\n nymID=\"c1dLQtp49iFMwG4522Bxv4mgR2cQ3IMjbl0Nqz3oGUz\"\\n altLocation=\"\">\\n\\n<nymIDSource>\\neNplkUFuozAYhRez4xS5QCUTJpWy6KI2dojBbm382zU7ClVCoKkjWRHhUHPGmWZm\\nN2/zpO/t3pf8+vGwevgOpru9XL0CrvZkVVJ/hwkJz6SqUazqlGjouRmwssBFDeJQ\\nI9v83VBpYCqaMcWC9jlkrAA0DQJpnWjgGKzFyujCjIwqxANAJE3K6HvxfIMcH7vd\\nUfUTC1U6tR7NHtjhptZMy0PwiduxzME82/XWKKSdRmLzp41x3fLiQtlmofEucAmb\\nWSAuyjV/6092aYftYlEMic6bywvICPTrCp8brz5nTM7h58ewLfp1JG6Iokv3t/cT\\nG+TYg84O197wxRv+qLPjJZFuYv7cITjLa+eirZHE4qRVc/JzB/FiF/b6cW7e2kWU\\ntWWhY+Pc5w1tqZ0kCy5pc61r0BiAETLcD4saNnTPsFXjzNUNV9qOd16pr6fknxIq\\n8/+E/Abun4cb\\n</nymIDSource>\\n\\n<credentialList>\\neNqtk0uvmlAAhHddnF9x49akyEOQxGuDCAoiIg8Rd3A4KIc38v5x/W29t3fRtOtu\\nJ5kvk8wM+Plt/WPI0rcO1a+4yN9n1PfF7McGrM92+0L1H5380MFbPmbK7n0GyVC7\\nNCXDx/Kp3zNLitoOHZM9TApeaOWEg3ShVxNd7J1ptgFg/dtmFW0N0QYgvUwTR26L\\nSfCeJpqYwVpeRMdWS3dkjwoVFngbZPSKmhxOTK9icUywax6ezsHYZ+49AzpFTOWZ\\naOgyWs27fY+6x7msW/6mLcS6uyfXq0o8+0SdWKty/KlK97hozax/vbbyDqkXoPDd\\nir5uS0+s/BN0RR6nSS0Ii91FLXMXP/bHSR5bLGKlrwZBF1SJPrKHboiUEzxwXQic\\nyLFF0mEbk9MPDX6Wzf00Low+DtthOkkriri5x6MVmpk2lQw50JEWX5o0KyKphUIW\\nANcS2hFfCXbBU74XNV4qnWLIBmPfKaJh12K5Cuppmdsn7rlcoV6LSlLds0qRdHRD\\nQBvs57b3WDFnkuf6wezmlWZg9S63XsdBxcaaP0dxfT9ITGVeIaFOW0KOZSJgocsh\\nKnEd0Lju05sbcNmTTXVfJOK4LCFL1ottLEi2BnfMy9dz23jJNzzpjn7lq3NIsmXN\\nRkk+KBVYEXOJEII2Z2AA1sRfFYN15r8aVIs1ClHexH4K3j53k1HCs23zng9t+jlh\\nrZZHuRLTquC6XBEkWlaRYY3RjVTNj7F1fhqH77OmbtGM+IQmaPyXKGdWOHqUdSeX\\nWVZx5zPDydpLmpLEgFg1d5HjuDKrWfiGPohfqf5DEuLrHhvwC1XPESE=\\n</credentialList>\\n\\n<credentials>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\\nU0lHTkFUVVJFLS0tLS0=\\n</credentials>\\n\\n</signer>\\n\\n</digitalAssetContract>\\n-----BEGIN CONTRACT SIGNATURE-----\\nVersion: Open Transactions 0.93.0-g235b1f0\\nComment: http://github.com/FellowTraveler/Open-Transactions/wiki\\nMeta:    ScmF\\n\\nCoABO6XcY63PJCK1h/NVFZkyKgALZtzexsE27+X54OllpHub8RTlGeh14GPVFtSP\\nFViiYP6SDKtG9wl0wag2jHv52GTFF/a9NmM3ePvAEZfbUvIB4SScAVqG0XxUzAAG\\nLvEI1zW4YO2TUmJTzcN4C2kqSQI7ZMleGbf1nrOvlQNnMLc=\\n-----END CONTRACT SIGNATURE-----'"
       ]
      }
     ],
     "prompt_number": 10
    },
    {
     "cell_type": "code",
     "collapsed": false,
     "input": [
      "signed_asset_contract = pyopentxs.decode(open(\"/home/jweiss/.ot/client_data/contracts/iIKSmUIVH9Ka9ikRlStuKB7sz0BzQTfYKrXjOnVDj2X\"))"
     ],
     "language": "python",
     "metadata": {},
     "outputs": [],
     "prompt_number": 10
    },
    {
     "cell_type": "code",
     "collapsed": false,
     "input": [
      "pyopentxs.issue_asset_type(\"LsRtDxuow3GC7jpH6mU2toowGbN5ROlTXJU323C7yum\", \"TUtJcOorgnFUfCtAJw41rXw6dZvX6irdIb41ydO13jW\", signed_asset_contract)"
     ],
     "language": "python",
     "metadata": {},
     "outputs": [
      {
       "output_type": "pyout",
       "prompt_number": 11,
       "text": [
        "''"
       ]
      }
     ],
     "prompt_number": 11
    },
    {
     "cell_type": "code",
     "collapsed": false,
     "input": [
      "import psutil\n",
      "\n",
      "sum(1 for x in psutil.process_iter()) "
     ],
     "language": "python",
     "metadata": {},
     "outputs": [
      {
       "output_type": "pyout",
       "prompt_number": 3,
       "text": [
        "284"
       ]
      }
     ],
     "prompt_number": 3
    },
    {
     "cell_type": "code",
     "collapsed": false,
     "input": [
      "is_opentxs = lambda p: p.name() == \"opentxs-notary\"\n",
      "psutil.process_iter()"
     ],
     "language": "python",
     "metadata": {},
     "outputs": []
    }
   ],
   "metadata": {}
  }
 ]
}